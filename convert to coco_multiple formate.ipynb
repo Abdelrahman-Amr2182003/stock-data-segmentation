{
 "cells": [
  {
   "cell_type": "code",
   "execution_count": 4,
   "id": "400a3e1c-c251-4955-9a59-7f3844624915",
   "metadata": {},
   "outputs": [],
   "source": [
    "import json\n",
    "import glob\n",
    "import numpy as np\n",
    "import os\n",
    "import cv2\n",
    "def PolyArea(x,y):\n",
    "    return 0.5*np.abs(np.dot(x,np.roll(y,1))-np.dot(y,np.roll(x,1)))\n",
    "def create_folder(dirr):\n",
    "    try:\n",
    "        os.mkdir(dirr)\n",
    "    except:\n",
    "        pass\n",
    "\n",
    "def extract_data(json_file):\n",
    "    with open(json_file) as f:\n",
    "        file=json.load(f)\n",
    "        width=file['imageWidth']\n",
    "        height=file['imageHeight']\n",
    "        path=file['imagePath'].split('\\\\')[-1]\n",
    "        shapes=file['shapes']\n",
    "        img_dict={\"filename\":path,\"size\":width*height,\"regions\":[]}\n",
    "        for shape in shapes:\n",
    "            pts=[]\n",
    "            xs=[]\n",
    "            ys=[]\n",
    "            bbox=[]\n",
    "            ID=shape['label']\n",
    "            for j in shape['points']:\n",
    "                xs.append(float(j[0]))\n",
    "                ys.append(float(j[1]))\n",
    "                pts.append(float(j[0]))\n",
    "                pts.append(float(j[1]))\n",
    "                \n",
    "            img_dict[\"regions\"].append({\"shape_attributes\": {\n",
    "          \"name\": \"polygon\",\n",
    "          \"all_points_x\": xs,\n",
    "          \"all_points_y\": ys},\n",
    "        \"region_attributes\": {\"stock\":ID}\n",
    "                                        })\n",
    "                \n",
    "    return img_dict,path\n",
    "           "
   ]
  },
  {
   "cell_type": "code",
   "execution_count": 5,
   "id": "73832d4e-f400-47f8-bb03-3d5d3b17f357",
   "metadata": {},
   "outputs": [],
   "source": [
    "def convert_files(dirr,val_split):\n",
    "    jsons=glob.glob(f'{dirr}/*.json')\n",
    "    create_folder('images')\n",
    "    create_folder('images/train')\n",
    "    create_folder('images/val')\n",
    "    train_json=dict()\n",
    "    val_json=dict()\n",
    "    n_train=int(len(jsons)*(1-val_split))\n",
    "    print(f\"Training images found {n_train}\")\n",
    "    print(f\"Validation images found {len(jsons)-n_train}\")\n",
    "\n",
    "    for ind,i in enumerate(jsons):            \n",
    "        if ind<=(n_train):\n",
    "            img_dict,img_dir = extract_data(i)\n",
    "            img=cv2.imread(f'{dirr}/{img_dir}')\n",
    "            cv2.imwrite(f'images/train/{img_dir}',img)\n",
    "\n",
    "            train_json[img_dir]=img_dict\n",
    "\n",
    "        else:\n",
    "            img_dict,img_dir = extract_data(i)\n",
    "            img=cv2.imread(f'{dirr}/{img_dir}')\n",
    "            cv2.imwrite(f'images/val/{img_dir}',img)\n",
    "\n",
    "            val_json[img_dir]=img_dict\n",
    "\n",
    "    with open('images/train/train.json','w') as fp:\n",
    "        json.dump(train_json,fp)\n",
    "\n",
    "    with open('images/val/val.json','w') as fp:\n",
    "        json.dump(val_json,fp)\n"
   ]
  },
  {
   "cell_type": "code",
   "execution_count": 6,
   "id": "28bdff6e-9152-45d9-a905-4555fd9a44f6",
   "metadata": {},
   "outputs": [
    {
     "name": "stdout",
     "output_type": "stream",
     "text": [
      "Training images found 31\n",
      "Validation images found 8\n"
     ]
    }
   ],
   "source": [
    "convert_files('test',0.2)"
   ]
  },
  {
   "cell_type": "code",
   "execution_count": null,
   "id": "9a26adef-0cea-4a66-89d8-00be061987e2",
   "metadata": {},
   "outputs": [],
   "source": []
  }
 ],
 "metadata": {
  "kernelspec": {
   "display_name": "Python 3 (ipykernel)",
   "language": "python",
   "name": "python3"
  },
  "language_info": {
   "codemirror_mode": {
    "name": "ipython",
    "version": 3
   },
   "file_extension": ".py",
   "mimetype": "text/x-python",
   "name": "python",
   "nbconvert_exporter": "python",
   "pygments_lexer": "ipython3",
   "version": "3.7.11"
  }
 },
 "nbformat": 4,
 "nbformat_minor": 5
}
