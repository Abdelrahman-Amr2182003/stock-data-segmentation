{
 "cells": [
  {
   "cell_type": "code",
   "execution_count": 1,
   "metadata": {
    "colab": {
     "base_uri": "https://localhost:8080/"
    },
    "id": "YVQ6Hs_2PieJ",
    "outputId": "973b2685-a056-4296-ee18-19cc51ce7aff"
   },
   "outputs": [
    {
     "name": "stderr",
     "output_type": "stream",
     "text": [
      "Using TensorFlow backend.\n"
     ]
    }
   ],
   "source": [
    "import sys\n",
    "ROOT_DIR=\"Mask_RCNN-Multi-Class-Detection-master\"\n",
    "sys.path.append(ROOT_DIR)\n",
    "from mrcnn.utils import Dataset\n",
    "from mrcnn.config import Config\n",
    "from mrcnn.model import MaskRCNN\n",
    "from mrcnn.visualize import display_instances\n",
    "from mrcnn.utils import extract_bboxes\n",
    "from mrcnn.utils import compute_ap\n",
    "from mrcnn.model import load_image_gt\n",
    "from mrcnn.model import mold_image\n",
    "from mrcnn import visualize\n",
    "from mrcnn import utils\n",
    "import os\n",
    "import json\n",
    "import skimage\n",
    "import glob\n",
    "import matplotlib.pyplot as plt\n",
    "import numpy as np\n",
    "from numpy import zeros\n",
    "from numpy import asarray\n",
    "from numpy import expand_dims\n",
    "from numpy import mean\n",
    "# import basic libraries\n",
    "from os import listdir\n",
    "import sys\n",
    "import json\n",
    "import datetime\n",
    "\n",
    "# import advance libraries\n",
    "from xml.etree import ElementTree\n",
    "import skimage.draw\n",
    "import cv2\n",
    "import imgaug\n",
    "\n",
    "# import keras libraries\n",
    "from keras.preprocessing.image import load_img\n",
    "from keras.preprocessing.image import img_to_array\n",
    "\n",
    "# ignore warnings\n",
    "import warnings\n",
    "import keras\n",
    "warnings.filterwarnings(\"ignore\")\n",
    "%matplotlib inline"
   ]
  },
  {
   "cell_type": "code",
   "execution_count": 2,
   "metadata": {
    "colab": {
     "base_uri": "https://localhost:8080/",
     "height": 36
    },
    "id": "8iuRXa6Mh5Ql",
    "outputId": "9c4ebd01-6cbb-4029-fe00-faa27db0a39d"
   },
   "outputs": [
    {
     "data": {
      "text/plain": [
       "'2.2.4'"
      ]
     },
     "execution_count": 2,
     "metadata": {},
     "output_type": "execute_result"
    }
   ],
   "source": [
    "keras.__version__"
   ]
  },
  {
   "cell_type": "code",
   "execution_count": 3,
   "metadata": {},
   "outputs": [],
   "source": [
    "COCO_MODEL_PATH = os.path.join(ROOT_DIR, \"mask_rcnn_coco.h5\")"
   ]
  },
  {
   "cell_type": "code",
   "execution_count": 4,
   "metadata": {
    "colab": {
     "base_uri": "https://localhost:8080/"
    },
    "id": "AhSNW1ZgDRkG",
    "outputId": "c2c9f00a-2873-45a2-885b-6d7dea230285"
   },
   "outputs": [],
   "source": [
    "# Local path to trained weights file\n",
    "# Download COCO trained weights from Releases if needed\n",
    "if not os.path.exists(COCO_MODEL_PATH):\n",
    "    utils.download_trained_weights(COCO_MODEL_PATH)"
   ]
  },
  {
   "cell_type": "code",
   "execution_count": 5,
   "metadata": {
    "id": "49xKUaOeEU9o"
   },
   "outputs": [],
   "source": [
    "class DamageDataset(Dataset):\n",
    "    def load_dataset(self, dataset_dir,json_dir, subset):\n",
    "        \n",
    "        # we use add_class for each class in our dataset and assign numbers to them. 0 is background\n",
    "        # self.add_class('source', 'class id', 'class name')\n",
    "        self.add_class(\"stock\", 1, \"c\")\n",
    "        self.add_class(\"stock\", 2, \"ihs\")\n",
    "        self.add_class(\"stock\", 3, \"hs\")\n",
    "        \n",
    "        assert subset in [\"train\", \"val\"]\n",
    "        dataset_dir = os.path.join(dataset_dir, subset)        \n",
    "        # load annotations using json.load()\n",
    "        annotations1 = json.load(open(os.path.join(dataset_dir,json_dir)))\n",
    "        \n",
    "        # convert annotations1 into a list\n",
    "        annotations = list(annotations1.values())  \n",
    "        \n",
    "        # we only require the regions in the annotations\n",
    "        annotations = [a for a in annotations if a['regions']]\n",
    "\n",
    "        # Add images\n",
    "        for a in annotations:\n",
    "            \n",
    "            # read image and get height and width\n",
    "            image_path = os.path.join(dataset_dir, a['filename'])\n",
    "            image = skimage.io.imread(image_path)\n",
    "            height, width = image.shape[:2]\n",
    "            # extracting shape attributes and region attributes\n",
    "            polygons = [r['shape_attributes'] for r in a['regions']] \n",
    "            objects = [s['region_attributes']['stock'] for s in a['regions']]\n",
    "                \n",
    "            # create a dictionary {name_of_class: class_id} remember background has id 0\n",
    "            name_dict = {\"c\": 1, \"ihs\": 2, \"hs\": 3}\n",
    "            \n",
    "            # all the ids/classes in a image\n",
    "            num_ids = [name_dict[name] for name in objects]\n",
    "            \n",
    "            # you can print these ids\n",
    "            # print(\"numids\",num_ids)\n",
    "            \n",
    "            \n",
    "            # add image to the dataset\n",
    "            self.add_image(\n",
    "                \"stock\",\n",
    "                image_id=a['filename'],\n",
    "                path=image_path,\n",
    "                width=width, height=height,\n",
    "                polygons=polygons,\n",
    "                num_ids=num_ids\n",
    "                )\n",
    "            \n",
    "    # this function calls on the extract_boxes method and is used to load a mask for each instance in an image\n",
    "    # returns a boolean mask with following dimensions width * height * instances\n",
    "    def load_mask(self, image_id):\n",
    "        \n",
    "        # info points to the current image_id\n",
    "        info = self.image_info[image_id]\n",
    "        \n",
    "        # for cases when source is not damage\n",
    "        if info[\"source\"] != \"stock\":\n",
    "            return super(self.__class__, self).load_mask(image_id)\n",
    "        \n",
    "        # get the class ids in an image\n",
    "        num_ids = info['num_ids']\n",
    "        \n",
    "        \n",
    "        \n",
    "        # we create len(info[\"polygons\"])(total number of polygons) number of masks of height 'h' and width 'w'\n",
    "        mask = np.zeros([info[\"height\"], info[\"width\"], len(info[\"polygons\"])],\n",
    "                        dtype=np.uint8)\n",
    "        \n",
    "        for i, p in enumerate(info[\"polygons\"]):\n",
    "            rr, cc = skimage.draw.polygon(p['all_points_y'], p['all_points_x'])\n",
    "\n",
    "            mask[rr, cc, i] = 1\n",
    "            \n",
    "        # return masks and class_ids as array\n",
    "        num_ids = np.array(num_ids, dtype=np.int32)\n",
    "        return mask, num_ids\n",
    "    \n",
    "    # this functions takes the image_id and returns the path of the image\n",
    "    def image_reference(self, image_id):\n",
    "        info = self.image_info[image_id]\n",
    "        if info[\"source\"] == \"stock\":\n",
    "            return info[\"path\"]\n",
    "        else:\n",
    "            super(self.__class__, self).image_reference(image_id)\n",
    "\n",
    "# define a configuration for the model\n",
    "class DamageConfig(Config):\n",
    "    # define the name of the configuration\n",
    "    NAME = \"stock\"\n",
    "    \n",
    "    # number of classes (background + damge classes)\n",
    "    NUM_CLASSES = 1 + 3\n",
    "    \n",
    "    # number of training steps per epoch\n",
    "    STEPS_PER_EPOCH = 160\n",
    "    # learning rate and momentum\n",
    "    LEARNING_RATE=0.002\n",
    "    LEARNING_MOMENTUM = 0.8\n",
    "    \n",
    "    # regularization penalty\n",
    "    WEIGHT_DECAY = 0.0001\n",
    "    \n",
    "    # image size is controlled by this parameter\n",
    "    IMAGE_MIN_DIM = 512\n",
    "    \n",
    "    # validation steps\n",
    "    VALIDATION_STEPS = 50\n",
    "    \n",
    "    # number of Region of Interest generated per image\n",
    "    Train_ROIs_Per_Image = 200\n",
    "    \n",
    "    # RPN Acnhor scales and ratios to find ROI\n",
    "    RPN_ANCHOR_SCALES = (16, 32, 48, 64, 128)\n",
    "    RPN_ANCHOR_RATIOS = [0.5, 1, 1.5]\n"
   ]
  },
  {
   "cell_type": "code",
   "execution_count": 6,
   "metadata": {
    "id": "eYjtMqxeK9Ig"
   },
   "outputs": [],
   "source": [
    "#prepare train dataset.\n",
    "train_set = DamageDataset()\n",
    "# change the dataset \n",
    "train_set.load_dataset('images','train.json','train')\n",
    "train_set.prepare()\n",
    "\n",
    "# prepare validation/test dataset\n",
    "test_set = DamageDataset()\n",
    "test_set.load_dataset('images','val.json','val')\n",
    "test_set.prepare()"
   ]
  },
  {
   "cell_type": "code",
   "execution_count": 7,
   "metadata": {
    "colab": {
     "base_uri": "https://localhost:8080/",
     "height": 608
    },
    "id": "-FdX94KGXHfK",
    "outputId": "e7ce650b-f305-44ae-a86b-b73319858f3b"
   },
   "outputs": [
    {
     "data": {
      "image/png": "[encoded data removed]",
      "text/plain": [
       "<Figure size 1008x360 with 5 Axes>"
      ]
     },
     "metadata": {
      "needs_background": "light"
     },
     "output_type": "display_data"
    },
    {
     "data": {
      "image/png": "[encoded data removed]",
      "text/plain": [
       "<Figure size 1008x360 with 5 Axes>"
      ]
     },
     "metadata": {
      "needs_background": "light"
     },
     "output_type": "display_data"
    },
    {
     "data": {
      "image/png": "[encoded data removed]",
      "text/plain": [
       "<Figure size 1008x360 with 5 Axes>"
      ]
     },
     "metadata": {
      "needs_background": "light"
     },
     "output_type": "display_data"
    },
    {
     "data": {
      "image/png": "[encoded data removed]",
      "text/plain": [
       "<Figure size 1008x360 with 5 Axes>"
      ]
     },
     "metadata": {
      "needs_background": "light"
     },
     "output_type": "display_data"
    }
   ],
   "source": [
    "# Load and display random samples\n",
    "image_ids = np.random.choice(train_set.image_ids, 4)\n",
    "for image_id in image_ids:\n",
    "    image = train_set.load_image(image_id)\n",
    "    mask, class_ids = train_set.load_mask(image_id)\n",
    "    visualize.display_top_masks(image, mask, class_ids, train_set.class_names)"
   ]
  },
  {
   "cell_type": "code",
   "execution_count": 8,
   "metadata": {
    "colab": {
     "base_uri": "https://localhost:8080/"
    },
    "id": "MpVWs6CKOTN9",
    "outputId": "7d574e19-1929-4453-ef22-a9dffa184114"
   },
   "outputs": [
    {
     "name": "stdout",
     "output_type": "stream",
     "text": [
      "WARNING:tensorflow:From C:\\Users\\abdel\\anaconda3\\envs\\mrcnn_gpu\\lib\\site-packages\\keras\\backend\\tensorflow_backend.py:517: The name tf.placeholder is deprecated. Please use tf.compat.v1.placeholder instead.\n",
      "\n",
      "WARNING:tensorflow:From C:\\Users\\abdel\\anaconda3\\envs\\mrcnn_gpu\\lib\\site-packages\\keras\\backend\\tensorflow_backend.py:74: The name tf.get_default_graph is deprecated. Please use tf.compat.v1.get_default_graph instead.\n",
      "\n",
      "WARNING:tensorflow:From C:\\Users\\abdel\\anaconda3\\envs\\mrcnn_gpu\\lib\\site-packages\\keras\\backend\\tensorflow_backend.py:4138: The name tf.random_uniform is deprecated. Please use tf.random.uniform instead.\n",
      "\n",
      "WARNING:tensorflow:From C:\\Users\\abdel\\anaconda3\\envs\\mrcnn_gpu\\lib\\site-packages\\keras\\backend\\tensorflow_backend.py:1919: The name tf.nn.fused_batch_norm is deprecated. Please use tf.compat.v1.nn.fused_batch_norm instead.\n",
      "\n",
      "WARNING:tensorflow:From C:\\Users\\abdel\\anaconda3\\envs\\mrcnn_gpu\\lib\\site-packages\\keras\\backend\\tensorflow_backend.py:3976: The name tf.nn.max_pool is deprecated. Please use tf.nn.max_pool2d instead.\n",
      "\n",
      "WARNING:tensorflow:From C:\\Users\\abdel\\anaconda3\\envs\\mrcnn_gpu\\lib\\site-packages\\keras\\backend\\tensorflow_backend.py:2018: The name tf.image.resize_nearest_neighbor is deprecated. Please use tf.compat.v1.image.resize_nearest_neighbor instead.\n",
      "\n",
      "WARNING:tensorflow:From C:\\Users\\abdel\\anaconda3\\envs\\mrcnn_gpu\\lib\\site-packages\\tensorflow_core\\python\\ops\\array_ops.py:1475: where (from tensorflow.python.ops.array_ops) is deprecated and will be removed in a future version.\n",
      "Instructions for updating:\n",
      "Use tf.where in 2.0, which has the same broadcast rule as np.where\n",
      "WARNING:tensorflow:From D:\\Abdelrahman files\\projects\\stock_data_segmentation\\mrcnn\\model.py:553: The name tf.random_shuffle is deprecated. Please use tf.random.shuffle instead.\n",
      "\n",
      "WARNING:tensorflow:From D:\\Abdelrahman files\\projects\\stock_data_segmentation\\mrcnn\\utils.py:202: The name tf.log is deprecated. Please use tf.math.log instead.\n",
      "\n",
      "WARNING:tensorflow:From D:\\Abdelrahman files\\projects\\stock_data_segmentation\\mrcnn\\model.py:600: calling crop_and_resize_v1 (from tensorflow.python.ops.image_ops_impl) with box_ind is deprecated and will be removed in a future version.\n",
      "Instructions for updating:\n",
      "box_ind is deprecated, use box_indices instead\n",
      "WARNING:tensorflow:From C:\\Users\\abdel\\anaconda3\\envs\\mrcnn_gpu\\lib\\site-packages\\keras\\backend\\tensorflow_backend.py:174: The name tf.get_default_session is deprecated. Please use tf.compat.v1.get_default_session instead.\n",
      "\n",
      "WARNING:tensorflow:From C:\\Users\\abdel\\anaconda3\\envs\\mrcnn_gpu\\lib\\site-packages\\keras\\backend\\tensorflow_backend.py:181: The name tf.ConfigProto is deprecated. Please use tf.compat.v1.ConfigProto instead.\n",
      "\n",
      "WARNING:tensorflow:From C:\\Users\\abdel\\anaconda3\\envs\\mrcnn_gpu\\lib\\site-packages\\keras\\backend\\tensorflow_backend.py:186: The name tf.Session is deprecated. Please use tf.compat.v1.Session instead.\n",
      "\n",
      "WARNING:tensorflow:From C:\\Users\\abdel\\anaconda3\\envs\\mrcnn_gpu\\lib\\site-packages\\keras\\backend\\tensorflow_backend.py:190: The name tf.global_variables is deprecated. Please use tf.compat.v1.global_variables instead.\n",
      "\n",
      "WARNING:tensorflow:From C:\\Users\\abdel\\anaconda3\\envs\\mrcnn_gpu\\lib\\site-packages\\keras\\backend\\tensorflow_backend.py:199: The name tf.is_variable_initialized is deprecated. Please use tf.compat.v1.is_variable_initialized instead.\n",
      "\n",
      "WARNING:tensorflow:From C:\\Users\\abdel\\anaconda3\\envs\\mrcnn_gpu\\lib\\site-packages\\keras\\backend\\tensorflow_backend.py:206: The name tf.variables_initializer is deprecated. Please use tf.compat.v1.variables_initializer instead.\n",
      "\n"
     ]
    }
   ],
   "source": [
    "config = DamageConfig()\n",
    "\n",
    "# define the model\n",
    "model = MaskRCNN(mode='training', model_dir='./', config=config)\n",
    "\n",
    "\n",
    "model.load_weights(COCO_MODEL_PATH, \n",
    "                   by_name=True, \n",
    "                   exclude=[\"mrcnn_class_logits\", \"mrcnn_bbox_fc\",  \"mrcnn_bbox\", \"mrcnn_mask\"])\n",
    "\n"
   ]
  },
  {
   "cell_type": "code",
   "execution_count": null,
   "metadata": {
    "colab": {
     "base_uri": "https://localhost:8080/"
    },
    "id": "zJvgI8lJd3qN",
    "outputId": "9ef2e216-49de-4603-9bec-75dffcc92966"
   },
   "outputs": [
    {
     "name": "stdout",
     "output_type": "stream",
     "text": [
      "\n",
      "Starting at epoch 0. LR=0.002\n",
      "\n",
      "Checkpoint Path: ./stock20220527T1652\\mask_rcnn_stock_{epoch:04d}.h5\n",
      "Selecting layers to train\n",
      "fpn_c5p5               (Conv2D)\n",
      "fpn_c4p4               (Conv2D)\n",
      "fpn_c3p3               (Conv2D)\n",
      "fpn_c2p2               (Conv2D)\n",
      "fpn_p5                 (Conv2D)\n",
      "fpn_p2                 (Conv2D)\n",
      "fpn_p3                 (Conv2D)\n",
      "fpn_p4                 (Conv2D)\n",
      "In model:  rpn_model\n",
      "    rpn_conv_shared        (Conv2D)\n",
      "    rpn_class_raw          (Conv2D)\n",
      "    rpn_bbox_pred          (Conv2D)\n",
      "mrcnn_mask_conv1       (TimeDistributed)\n",
      "mrcnn_mask_bn1         (TimeDistributed)\n",
      "mrcnn_mask_conv2       (TimeDistributed)\n",
      "mrcnn_mask_bn2         (TimeDistributed)\n",
      "mrcnn_class_conv1      (TimeDistributed)\n",
      "mrcnn_class_bn1        (TimeDistributed)\n",
      "mrcnn_mask_conv3       (TimeDistributed)\n",
      "mrcnn_mask_bn3         (TimeDistributed)\n",
      "mrcnn_class_conv2      (TimeDistributed)\n",
      "mrcnn_class_bn2        (TimeDistributed)\n",
      "mrcnn_mask_conv4       (TimeDistributed)\n",
      "mrcnn_mask_bn4         (TimeDistributed)\n",
      "mrcnn_bbox_fc          (TimeDistributed)\n",
      "mrcnn_mask_deconv      (TimeDistributed)\n",
      "mrcnn_class_logits     (TimeDistributed)\n",
      "mrcnn_mask             (TimeDistributed)\n",
      "WARNING:tensorflow:From C:\\Users\\abdel\\anaconda3\\envs\\mrcnn_gpu\\lib\\site-packages\\keras\\optimizers.py:790: The name tf.train.Optimizer is deprecated. Please use tf.compat.v1.train.Optimizer instead.\n",
      "\n",
      "WARNING:tensorflow:From C:\\Users\\abdel\\anaconda3\\envs\\mrcnn_gpu\\lib\\site-packages\\keras\\backend\\tensorflow_backend.py:986: The name tf.assign_add is deprecated. Please use tf.compat.v1.assign_add instead.\n",
      "\n",
      "WARNING:tensorflow:From C:\\Users\\abdel\\anaconda3\\envs\\mrcnn_gpu\\lib\\site-packages\\keras\\backend\\tensorflow_backend.py:973: The name tf.assign is deprecated. Please use tf.compat.v1.assign instead.\n",
      "\n",
      "WARNING:tensorflow:From C:\\Users\\abdel\\anaconda3\\envs\\mrcnn_gpu\\lib\\site-packages\\keras\\callbacks.py:850: The name tf.summary.merge_all is deprecated. Please use tf.compat.v1.summary.merge_all instead.\n",
      "\n",
      "WARNING:tensorflow:From C:\\Users\\abdel\\anaconda3\\envs\\mrcnn_gpu\\lib\\site-packages\\keras\\callbacks.py:853: The name tf.summary.FileWriter is deprecated. Please use tf.compat.v1.summary.FileWriter instead.\n",
      "\n",
      "Epoch 1/15\n",
      "160/160 [==============================] - 4880s 31s/step - loss: 2.8290 - val_loss: 2.0198\n",
      "WARNING:tensorflow:From C:\\Users\\abdel\\anaconda3\\envs\\mrcnn_gpu\\lib\\site-packages\\keras\\callbacks.py:995: The name tf.Summary is deprecated. Please use tf.compat.v1.Summary instead.\n",
      "\n",
      "Epoch 2/15\n",
      "160/160 [==============================] - 5051s 32s/step - loss: 1.8948 - val_loss: 1.8209\n",
      "Epoch 3/15\n",
      "160/160 [==============================] - 4956s 31s/step - loss: 1.4407 - val_loss: 1.6582\n",
      "Epoch 4/15\n",
      "160/160 [==============================] - 4914s 31s/step - loss: 1.1581 - val_loss: 1.5447\n",
      "Epoch 5/15\n",
      " 35/160 [=====>........................] - ETA: 1:02:57 - loss: 0.9853"
     ]
    }
   ],
   "source": [
    "model.train(train_set, \n",
    "            test_set, \n",
    "            learning_rate=config.LEARNING_RATE, \n",
    "            epochs=15, \n",
    "            layers='heads')"
   ]
  },
  {
   "cell_type": "code",
   "execution_count": null,
   "metadata": {
    "colab": {
     "base_uri": "https://localhost:8080/"
    },
    "id": "hu61NYG5fL9S",
    "outputId": "e172d7c2-265c-4796-be48-1140f0ecff5f"
   },
   "outputs": [],
   "source": [
    "class PredictionConfig(Config):\n",
    "    NAME = \"stock\"\n",
    "    NUM_CLASSES = 1 + 3\n",
    "    GPU_COUNT = 1\n",
    "    IMAGES_PER_GPU = 1\n",
    "    \n",
    "cfg = PredictionConfig()\n",
    "\n",
    "model = MaskRCNN(mode='inference', model_dir='./', config=cfg)\n",
    "\n",
    "model_path = 'stock20220527T1652/mask_rcnn_stock_0015.h5'\n",
    "model.load_weights(model_path, by_name=True) \n"
   ]
  },
  {
   "cell_type": "code",
   "execution_count": null,
   "metadata": {
    "colab": {
     "base_uri": "https://localhost:8080/",
     "height": 954
    },
    "id": "7mAs1d2GRP6s",
    "outputId": "0d0dfcbd-1888-46a0-dd21-cd8488a81e74"
   },
   "outputs": [],
   "source": [
    "image = load_img(\"/content/images/val/Screenshot 2022-05-21 at 19.02.27.png\")\n",
    "image = img_to_array(image)\n",
    "\n",
    "# call the detect method on image\n",
    "results = model.detect([image], verbose=1)\n",
    "r = results[0]\n",
    "class_names=['background','c','ihs','hs']\n",
    "visualize.display_instances(image, r['rois'], r['masks'], r['class_ids'], class_names,  r['scores'])\n"
   ]
  },
  {
   "cell_type": "code",
   "execution_count": null,
   "metadata": {
    "colab": {
     "base_uri": "https://localhost:8080/"
    },
    "id": "rFnwUlg30nr1",
    "outputId": "b19708b9-089d-4d2d-bc27-eddeb280caa4"
   },
   "outputs": [],
   "source": [
    "def evaluate_model(dataset, model, cfg):\n",
    "    APs = list()\n",
    "    for image_id in dataset.image_ids:\n",
    "\n",
    "        image, image_meta, gt_class_id, gt_bbox, gt_mask = load_image_gt(dataset, cfg, image_id, use_mini_mask=False)\n",
    "\n",
    "        scaled_image = mold_image(image, cfg)\n",
    "\n",
    "        sample = expand_dims(scaled_image, 0)\n",
    "\n",
    "        yhat = model.detect(sample, verbose=0)\n",
    "\n",
    "        r = yhat[0]\n",
    "\n",
    "        AP, _, _, _ = compute_ap(gt_bbox, gt_class_id, gt_mask, r[\"rois\"], r[\"class_ids\"], r[\"scores\"], r['masks'])\n",
    "\n",
    "        APs.append(AP)\n",
    "    maP = mean(APs)\n",
    "    return maP\n",
    "\n",
    "# TODO: create and prepare train and test dataset\n",
    "# TODO: load prediction configuration with mode 'inference'\n",
    "# TODO: define model\n",
    "# TODO: load model weights (your trained model weights)\n",
    "\n",
    "# evaluate model on train dataset\n",
    "train_mAP = evaluate_model(train_set, model, cfg)\n",
    "print(f\"Train mAP: {train_mAP}\")\n",
    "\n",
    "# evaluate model on test dataset\n",
    "test_mAP = evaluate_model(test_set, model, cfg)\n",
    "print(f\"Test mAP: {test_mAP}\")"
   ]
  },
  {
   "cell_type": "code",
   "execution_count": null,
   "metadata": {
    "id": "3y2NPSeXNZaI"
   },
   "outputs": [],
   "source": []
  }
 ],
 "metadata": {
  "accelerator": "GPU",
  "colab": {
   "collapsed_sections": [],
   "name": "Untitled19_(2)_(1) (1).ipynb",
   "provenance": []
  },
  "kernelspec": {
   "display_name": "Python 3",
   "language": "python",
   "name": "python3"
  },
  "language_info": {
   "codemirror_mode": {
    "name": "ipython",
    "version": 3
   },
   "file_extension": ".py",
   "mimetype": "text/x-python",
   "name": "python",
   "nbconvert_exporter": "python",
   "pygments_lexer": "ipython3",
   "version": "3.7.11"
  }
 },
 "nbformat": 4,
 "nbformat_minor": 4
}
