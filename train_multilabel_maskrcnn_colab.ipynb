{
  "cells": [
    {
      "cell_type": "code",
      "execution_count": 1,
      "metadata": {
        "colab": {
          "base_uri": "https://localhost:8080/"
        },
        "id": "waIDPF-bCc5f",
        "outputId": "03f72a00-622e-469b-c427-d47c4ebe9972"
      },
      "outputs": [
        {
          "output_type": "stream",
          "name": "stdout",
          "text": [
            "Cloning into 'Mask_RCNN-Multi-Class-Detection'...\n",
            "remote: Enumerating objects: 908, done.\u001b[K\n",
            "remote: Total 908 (delta 0), reused 0 (delta 0), pack-reused 908\u001b[K\n",
            "Receiving objects: 100% (908/908), 117.81 MiB | 27.78 MiB/s, done.\n",
            "Resolving deltas: 100% (474/474), done.\n"
          ]
        }
      ],
      "source": [
        "!git clone https://github.com/CrookedNoob/Mask_RCNN-Multi-Class-Detection"
      ]
    },
    {
      "cell_type": "code",
      "execution_count": 2,
      "metadata": {
        "colab": {
          "base_uri": "https://localhost:8080/"
        },
        "id": "_JvbMNeECo6x",
        "outputId": "738d4a2b-7ca8-4192-ddbd-198fbf38119a"
      },
      "outputs": [
        {
          "output_type": "stream",
          "name": "stdout",
          "text": [
            "TensorFlow 1.x selected.\n",
            "Looking in indexes: https://pypi.org/simple, https://us-python.pkg.dev/colab-wheels/public/simple/\n",
            "Collecting h5py==2.10.0\n",
            "  Downloading h5py-2.10.0-cp37-cp37m-manylinux1_x86_64.whl (2.9 MB)\n",
            "\u001b[K     |████████████████████████████████| 2.9 MB 29.3 MB/s \n",
            "\u001b[?25hRequirement already satisfied: six in /usr/local/lib/python3.7/dist-packages (from h5py==2.10.0) (1.15.0)\n",
            "Requirement already satisfied: numpy>=1.7 in /usr/local/lib/python3.7/dist-packages (from h5py==2.10.0) (1.21.6)\n",
            "Installing collected packages: h5py\n",
            "  Attempting uninstall: h5py\n",
            "    Found existing installation: h5py 3.1.0\n",
            "    Uninstalling h5py-3.1.0:\n",
            "      Successfully uninstalled h5py-3.1.0\n",
            "Successfully installed h5py-2.10.0\n",
            "Looking in indexes: https://pypi.org/simple, https://us-python.pkg.dev/colab-wheels/public/simple/\n",
            "Collecting keras==2.1.0\n",
            "  Downloading Keras-2.1.0-py2.py3-none-any.whl (302 kB)\n",
            "\u001b[K     |████████████████████████████████| 302 kB 13.8 MB/s \n",
            "\u001b[?25hRequirement already satisfied: scipy>=0.14 in /usr/local/lib/python3.7/dist-packages (from keras==2.1.0) (1.4.1)\n",
            "Requirement already satisfied: numpy>=1.9.1 in /usr/local/lib/python3.7/dist-packages (from keras==2.1.0) (1.21.6)\n",
            "Requirement already satisfied: six>=1.9.0 in /usr/local/lib/python3.7/dist-packages (from keras==2.1.0) (1.15.0)\n",
            "Requirement already satisfied: pyyaml in /usr/local/lib/python3.7/dist-packages (from keras==2.1.0) (3.13)\n",
            "Installing collected packages: keras\n",
            "  Attempting uninstall: keras\n",
            "    Found existing installation: Keras 2.3.1\n",
            "    Uninstalling Keras-2.3.1:\n",
            "      Successfully uninstalled Keras-2.3.1\n",
            "Successfully installed keras-2.8.0\n"
          ]
        }
      ],
      "source": [
        "%tensorflow_version 1.x\n",
        "!pip install --upgrade h5py==2.10.0\n",
        "!pip install --upgrade keras==2.1.0"
      ]
    },
    {
      "cell_type": "code",
      "source": [
        "from google.colab import drive\n",
        "drive.mount('/content/drive')"
      ],
      "metadata": {
        "colab": {
          "base_uri": "https://localhost:8080/"
        },
        "id": "YkmcBO63uNZ1",
        "outputId": "ba6e780c-45f1-4134-b67c-ddbb0c0dac38"
      },
      "execution_count": 3,
      "outputs": [
        {
          "output_type": "stream",
          "name": "stdout",
          "text": [
            "Mounted at /content/drive\n"
          ]
        }
      ]
    },
    {
      "cell_type": "code",
      "source": [
        "import os\n",
        "try:\n",
        "  os.mkdir('/content/drive/MyDrive/stock_data')\n",
        "except:\n",
        "  pass\n"
      ],
      "metadata": {
        "id": "4Hd9EVU6CIfw"
      },
      "execution_count": 5,
      "outputs": []
    },
    {
      "cell_type": "code",
      "execution_count": null,
      "metadata": {
        "colab": {
          "base_uri": "https://localhost:8080/"
        },
        "id": "YVQ6Hs_2PieJ",
        "outputId": "65c744a0-9079-43a0-c2e6-5a0f9db99fc7"
      },
      "outputs": [
        {
          "output_type": "stream",
          "name": "stderr",
          "text": [
            "Using TensorFlow backend.\n"
          ]
        }
      ],
      "source": [
        "import sys\n",
        "ROOT_DIR=\"/content/Mask_RCNN-Multi-Class-Detection\"\n",
        "sys.path.append(ROOT_DIR)\n",
        "from mrcnn.utils import Dataset\n",
        "from mrcnn.config import Config\n",
        "from mrcnn.model import MaskRCNN\n",
        "from mrcnn.visualize import display_instances\n",
        "from mrcnn.utils import extract_bboxes\n",
        "from mrcnn.utils import compute_ap\n",
        "from mrcnn.model import load_image_gt\n",
        "from mrcnn.model import mold_image\n",
        "from mrcnn import visualize\n",
        "from mrcnn import utils\n",
        "import os\n",
        "import json\n",
        "import skimage\n",
        "import glob\n",
        "import matplotlib.pyplot as plt\n",
        "import numpy as np\n",
        "from numpy import zeros\n",
        "from numpy import asarray\n",
        "from numpy import expand_dims\n",
        "from numpy import mean\n",
        "# import basic libraries\n",
        "from os import listdir\n",
        "import sys\n",
        "import json\n",
        "import datetime\n",
        "\n",
        "# import advance libraries\n",
        "from xml.etree import ElementTree\n",
        "import skimage.draw\n",
        "import cv2\n",
        "import imgaug\n",
        "\n",
        "# import keras libraries\n",
        "from keras.preprocessing.image import load_img\n",
        "from keras.preprocessing.image import img_to_array\n",
        "\n",
        "# ignore warnings\n",
        "import warnings\n",
        "import keras\n",
        "warnings.filterwarnings(\"ignore\")\n",
        "%matplotlib inline"
      ]
    },
    {
      "cell_type": "code",
      "execution_count": null,
      "metadata": {
        "colab": {
          "base_uri": "https://localhost:8080/",
          "height": 36
        },
        "id": "8iuRXa6Mh5Ql",
        "outputId": "f6da2b4d-bb95-4fcc-d74a-a4b3bab12cd6"
      },
      "outputs": [
        {
          "data": {
            "application/vnd.google.colaboratory.intrinsic+json": {
              "type": "string"
            },
            "text/plain": [
              "'2.1.0'"
            ]
          },
          "execution_count": 3,
          "metadata": {},
          "output_type": "execute_result"
        }
      ],
      "source": [
        "keras.__version__"
      ]
    },
    {
      "cell_type": "code",
      "execution_count": null,
      "metadata": {
        "colab": {
          "base_uri": "https://localhost:8080/"
        },
        "id": "AhSNW1ZgDRkG",
        "outputId": "c928ca3c-f1b0-42be-f039-3440b231d780"
      },
      "outputs": [
        {
          "output_type": "stream",
          "name": "stdout",
          "text": [
            "Downloading pretrained model to /content/Mask_RCNN-Multi-Class-Detection/mask_rcnn_coco.h5 ...\n",
            "... done downloading pretrained model!\n"
          ]
        }
      ],
      "source": [
        "# Local path to trained weights file\n",
        "COCO_MODEL_PATH = os.path.join(ROOT_DIR, \"mask_rcnn_coco.h5\")\n",
        "# Download COCO trained weights from Releases if needed\n",
        "if not os.path.exists(COCO_MODEL_PATH):\n",
        "    utils.download_trained_weights(COCO_MODEL_PATH)"
      ]
    },
    {
      "cell_type": "code",
      "execution_count": null,
      "metadata": {
        "id": "49xKUaOeEU9o"
      },
      "outputs": [],
      "source": [
        "\n",
        "class DamageDataset(Dataset):\n",
        "\n",
        "    def load_dataset(self, dataset_dir,json_dir, subset):\n",
        "        \n",
        "        # we use add_class for each class in our dataset and assign numbers to them. 0 is background\n",
        "        # self.add_class('source', 'class id', 'class name')\n",
        "        self.add_class(\"stock\", 1, \"c\")\n",
        "        self.add_class(\"stock\", 2, \"ihs\")\n",
        "        self.add_class(\"stock\", 3, \"hs\")\n",
        "        \n",
        "        assert subset in [\"train\", \"val\"]\n",
        "        dataset_dir = os.path.join(dataset_dir, subset)\n",
        "\n",
        "        # Load annotations\n",
        "        # { 'filename': '28503151_5b5b7ec140_b.jpg',\n",
        "        #   'regions': {\n",
        "        #       '0': {\n",
        "        #           'region_attributes': {},\n",
        "        #           'shape_attributes': {\n",
        "        #               'all_points_x': [...],\n",
        "        #               'all_points_y': [...],\n",
        "        #               'name': 'polygon'}},\n",
        "        #       ... more regions ...\n",
        "        #   },\n",
        "        #   'size': 100202\n",
        "        # }\n",
        "        \n",
        "        # load annotations using json.load()\n",
        "        annotations1 = json.load(open(os.path.join(dataset_dir,json_dir)))\n",
        "        \n",
        "        # convert annotations1 into a list\n",
        "        annotations = list(annotations1.values())  \n",
        "        \n",
        "        # we only require the regions in the annotations\n",
        "        annotations = [a for a in annotations if a['regions']]\n",
        "\n",
        "        # Add images\n",
        "        for a in annotations:\n",
        "            \n",
        "            # read image and get height and width\n",
        "            image_path = os.path.join(dataset_dir, a['filename'])\n",
        "            image = skimage.io.imread(image_path)\n",
        "            height, width = image.shape[:2]\n",
        "            # extracting shape attributes and region attributes\n",
        "            polygons = [r['shape_attributes'] for r in a['regions']] \n",
        "            objects = [s['region_attributes']['stock'] for s in a['regions']]\n",
        "                \n",
        "            # create a dictionary {name_of_class: class_id} remember background has id 0\n",
        "            name_dict = {\"c\": 1, \"ihs\": 2, \"hs\": 3}\n",
        "            \n",
        "            # all the ids/classes in a image\n",
        "            num_ids = [name_dict[name] for name in objects]\n",
        "            \n",
        "            # you can print these ids\n",
        "            # print(\"numids\",num_ids)\n",
        "            \n",
        "            \n",
        "            # add image to the dataset\n",
        "            self.add_image(\n",
        "                \"stock\",\n",
        "                image_id=a['filename'],\n",
        "                path=image_path,\n",
        "                width=width, height=height,\n",
        "                polygons=polygons,\n",
        "                num_ids=num_ids\n",
        "                )\n",
        "            \n",
        "    # this function calls on the extract_boxes method and is used to load a mask for each instance in an image\n",
        "    # returns a boolean mask with following dimensions width * height * instances\n",
        "    def load_mask(self, image_id):\n",
        "        \n",
        "        # info points to the current image_id\n",
        "        info = self.image_info[image_id]\n",
        "        \n",
        "        # for cases when source is not damage\n",
        "        if info[\"source\"] != \"stock\":\n",
        "            return super(self.__class__, self).load_mask(image_id)\n",
        "        \n",
        "        # get the class ids in an image\n",
        "        num_ids = info['num_ids']\n",
        "        \n",
        "        \n",
        "        \n",
        "        # we create len(info[\"polygons\"])(total number of polygons) number of masks of height 'h' and width 'w'\n",
        "        mask = np.zeros([info[\"height\"], info[\"width\"], len(info[\"polygons\"])],\n",
        "                        dtype=np.uint8)\n",
        "        \n",
        "        for i, p in enumerate(info[\"polygons\"]):\n",
        "            rr, cc = skimage.draw.polygon(p['all_points_y'], p['all_points_x'])\n",
        "\n",
        "            mask[rr, cc, i] = 1\n",
        "            \n",
        "        # return masks and class_ids as array\n",
        "        num_ids = np.array(num_ids, dtype=np.int32)\n",
        "        return mask, num_ids\n",
        "    \n",
        "    # this functions takes the image_id and returns the path of the image\n",
        "    def image_reference(self, image_id):\n",
        "        info = self.image_info[image_id]\n",
        "        if info[\"source\"] == \"stock\":\n",
        "            return info[\"path\"]\n",
        "        else:\n",
        "            super(self.__class__, self).image_reference(image_id)\n",
        "\n",
        "# define a configuration for the model\n",
        "class DamageConfig(Config):\n",
        "    # define the name of the configuration\n",
        "    NAME = \"stock\"\n",
        "    \n",
        "    # number of classes (background + damge classes)\n",
        "    NUM_CLASSES = 1 + 3\n",
        "    \n",
        "    # number of training steps per epoch\n",
        "    STEPS_PER_EPOCH = 160\n",
        "    # learning rate and momentum\n",
        "    LEARNING_RATE=0.002\n",
        "    LEARNING_MOMENTUM = 0.8\n",
        "    \n",
        "    # regularization penalty\n",
        "    WEIGHT_DECAY = 0.0001\n",
        "    \n",
        "    # image size is controlled by this parameter\n",
        "    IMAGE_MIN_DIM = 512\n",
        "    \n",
        "    # validation steps\n",
        "    VALIDATION_STEPS = 50\n",
        "    \n",
        "    # number of Region of Interest generated per image\n",
        "    Train_ROIs_Per_Image = 200\n",
        "    \n",
        "    # RPN Acnhor scales and ratios to find ROI\n",
        "    RPN_ANCHOR_SCALES = (16, 32, 48, 64, 128)\n",
        "    RPN_ANCHOR_RATIOS = [0.5, 1, 1.5]\n"
      ]
    },
    {
      "cell_type": "code",
      "execution_count": null,
      "metadata": {
        "colab": {
          "base_uri": "https://localhost:8080/"
        },
        "id": "Cx9Cui3NNauw",
        "outputId": "fbaf2d23-2d03-4a52-c7db-6f3882592cc3"
      },
      "outputs": [
        {
          "output_type": "stream",
          "name": "stdout",
          "text": [
            "Archive:  /content/drive/MyDrive/stock_data/images.zip\n",
            "   creating: images/train/\n",
            "   creating: images/train/.ipynb_checkpoints/\n",
            "  inflating: images/train/.ipynb_checkpoints/train-checkpoint.json  \n",
            "  inflating: images/train/Screenshot 2022-05-21 at 12.18.41.png  \n",
            "  inflating: images/train/Screenshot 2022-05-21 at 12.20.25.png  \n",
            "  inflating: images/train/Screenshot 2022-05-21 at 12.20.34.png  \n",
            "  inflating: images/train/Screenshot 2022-05-21 at 12.22.46.png  \n",
            "  inflating: images/train/Screenshot 2022-05-21 at 18.50.02.png  \n",
            "  inflating: images/train/Screenshot 2022-05-21 at 18.51.22.png  \n",
            "  inflating: images/train/Screenshot 2022-05-21 at 18.51.53.png  \n",
            "  inflating: images/train/Screenshot 2022-05-21 at 18.52.23.png  \n",
            "  inflating: images/train/Screenshot 2022-05-21 at 18.52.30.png  \n",
            "  inflating: images/train/Screenshot 2022-05-21 at 18.52.56.png  \n",
            "  inflating: images/train/Screenshot 2022-05-21 at 18.53.00.png  \n",
            "  inflating: images/train/Screenshot 2022-05-21 at 18.53.18.png  \n",
            "  inflating: images/train/Screenshot 2022-05-21 at 18.53.23.png  \n",
            "  inflating: images/train/Screenshot 2022-05-21 at 18.53.30.png  \n",
            "  inflating: images/train/Screenshot 2022-05-21 at 18.53.37.png  \n",
            "  inflating: images/train/Screenshot 2022-05-21 at 18.54.10.png  \n",
            "  inflating: images/train/Screenshot 2022-05-21 at 18.54.19.png  \n",
            "  inflating: images/train/Screenshot 2022-05-21 at 18.54.51.png  \n",
            "  inflating: images/train/Screenshot 2022-05-21 at 18.54.56.png  \n",
            "  inflating: images/train/Screenshot 2022-05-21 at 18.55.01.png  \n",
            "  inflating: images/train/Screenshot 2022-05-21 at 18.56.07.png  \n",
            "  inflating: images/train/Screenshot 2022-05-21 at 18.56.12.png  \n",
            "  inflating: images/train/Screenshot 2022-05-21 at 18.56.23.png  \n",
            "  inflating: images/train/Screenshot 2022-05-21 at 18.56.59.png  \n",
            "  inflating: images/train/Screenshot 2022-05-21 at 18.57.02.png  \n",
            "  inflating: images/train/Screenshot 2022-05-21 at 18.57.14.png  \n",
            "  inflating: images/train/Screenshot 2022-05-21 at 18.58.06.png  \n",
            "  inflating: images/train/Screenshot 2022-05-21 at 18.58.20.png  \n",
            "  inflating: images/train/Screenshot 2022-05-21 at 18.58.24.png  \n",
            "  inflating: images/train/Screenshot 2022-05-21 at 18.59.15.png  \n",
            "  inflating: images/train/Screenshot 2022-05-21 at 18.59.30.png  \n",
            "  inflating: images/train/Screenshot 2022-05-21 at 18.59.41.png  \n",
            "  inflating: images/train/train.json  \n",
            "   creating: images/val/\n",
            "  inflating: images/val/Screenshot 2022-05-21 at 18.59.59.png  \n",
            "  inflating: images/val/Screenshot 2022-05-21 at 19.00.08.png  \n",
            "  inflating: images/val/Screenshot 2022-05-21 at 19.01.05.png  \n",
            "  inflating: images/val/Screenshot 2022-05-21 at 19.01.45.png  \n",
            "  inflating: images/val/Screenshot 2022-05-21 at 19.02.13.png  \n",
            "  inflating: images/val/Screenshot 2022-05-21 at 19.02.23.png  \n",
            "  inflating: images/val/Screenshot 2022-05-21 at 19.02.27.png  \n",
            "  inflating: images/val/val.json     \n"
          ]
        }
      ],
      "source": [
        "!unzip /content/drive/MyDrive/stock_data/images.zip"
      ]
    },
    {
      "cell_type": "code",
      "execution_count": null,
      "metadata": {
        "id": "eYjtMqxeK9Ig"
      },
      "outputs": [],
      "source": [
        "#prepare train dataset.\n",
        "train_set = DamageDataset()\n",
        "# change the dataset \n",
        "train_set.load_dataset('/content/images','train.json','train')\n",
        "train_set.prepare()\n",
        "\n",
        "# prepare validation/test dataset\n",
        "test_set = DamageDataset()\n",
        "test_set.load_dataset('/content/images','val.json','val')\n",
        "test_set.prepare()"
      ]
    },
    {
      "cell_type": "code",
      "execution_count": null,
      "metadata": {
        "colab": {
          "base_uri": "https://localhost:8080/",
          "height": 608
        },
        "id": "-FdX94KGXHfK",
        "outputId": "25d69fc0-d9f4-42bc-f28c-95fed8d998a7"
      },
      "outputs": [
        {
          "output_type": "display_data",
          "data": {
            "text/plain": [
              "<Figure size 1008x360 with 5 Axes>"
            ],
            "image/png": "[encoded data removed]"
          },
          "metadata": {
            "needs_background": "light"
          }
        },
        {
          "output_type": "display_data",
          "data": {
            "text/plain": [
              "<Figure size 1008x360 with 5 Axes>"
            ],
            "image/png": "[encoded data removed]"
          },
          "metadata": {
            "needs_background": "light"
          }
        },
        {
          "output_type": "display_data",
          "data": {
            "text/plain": [
              "<Figure size 1008x360 with 5 Axes>"
            ],
            "image/png": "[encoded data removed]"
          },
          "metadata": {
            "needs_background": "light"
          }
        },
        {
          "output_type": "display_data",
          "data": {
            "text/plain": [
              "<Figure size 1008x360 with 5 Axes>"
            ],
            "image/png": "[encoded data removed]"
          },
          "metadata": {
            "needs_background": "light"
          }
        }
      ],
      "source": [
        "# Load and display random samples\n",
        "image_ids = np.random.choice(train_set.image_ids, 4)\n",
        "for image_id in image_ids:\n",
        "    image = train_set.load_image(image_id)\n",
        "    mask, class_ids = train_set.load_mask(image_id)\n",
        "    visualize.display_top_masks(image, mask, class_ids, train_set.class_names)"
      ]
    },
    {
      "cell_type": "code",
      "execution_count": null,
      "metadata": {
        "colab": {
          "base_uri": "https://localhost:8080/"
        },
        "id": "MpVWs6CKOTN9",
        "outputId": "57f93757-777c-4cca-9587-fe5be9c29e8a"
      },
      "outputs": [
        {
          "output_type": "stream",
          "name": "stdout",
          "text": [
            "WARNING:tensorflow:From /usr/local/lib/python3.7/dist-packages/keras/backend/tensorflow_backend.py:492: The name tf.placeholder is deprecated. Please use tf.compat.v1.placeholder instead.\n",
            "\n",
            "WARNING:tensorflow:From /usr/local/lib/python3.7/dist-packages/keras/backend/tensorflow_backend.py:63: The name tf.get_default_graph is deprecated. Please use tf.compat.v1.get_default_graph instead.\n",
            "\n",
            "WARNING:tensorflow:From /usr/local/lib/python3.7/dist-packages/keras/backend/tensorflow_backend.py:3630: The name tf.random_uniform is deprecated. Please use tf.random.uniform instead.\n",
            "\n",
            "WARNING:tensorflow:From /usr/local/lib/python3.7/dist-packages/keras/backend/tensorflow_backend.py:3458: The name tf.nn.max_pool is deprecated. Please use tf.nn.max_pool2d instead.\n",
            "\n",
            "WARNING:tensorflow:From /usr/local/lib/python3.7/dist-packages/keras/backend/tensorflow_backend.py:1822: The name tf.image.resize_nearest_neighbor is deprecated. Please use tf.compat.v1.image.resize_nearest_neighbor instead.\n",
            "\n",
            "WARNING:tensorflow:From /usr/local/lib/python3.7/dist-packages/keras/backend/tensorflow_backend.py:1208: calling reduce_max_v1 (from tensorflow.python.ops.math_ops) with keep_dims is deprecated and will be removed in a future version.\n",
            "Instructions for updating:\n",
            "keep_dims is deprecated, use keepdims instead\n",
            "WARNING:tensorflow:From /usr/local/lib/python3.7/dist-packages/keras/backend/tensorflow_backend.py:1242: calling reduce_sum_v1 (from tensorflow.python.ops.math_ops) with keep_dims is deprecated and will be removed in a future version.\n",
            "Instructions for updating:\n",
            "keep_dims is deprecated, use keepdims instead\n",
            "WARNING:tensorflow:From /tensorflow-1.15.2/python3.7/tensorflow_core/python/ops/array_ops.py:1475: where (from tensorflow.python.ops.array_ops) is deprecated and will be removed in a future version.\n",
            "Instructions for updating:\n",
            "Use tf.where in 2.0, which has the same broadcast rule as np.where\n",
            "WARNING:tensorflow:From /content/Mask_RCNN-Multi-Class-Detection/mrcnn/model.py:554: The name tf.random_shuffle is deprecated. Please use tf.random.shuffle instead.\n",
            "\n",
            "WARNING:tensorflow:From /content/Mask_RCNN-Multi-Class-Detection/mrcnn/utils.py:200: The name tf.log is deprecated. Please use tf.math.log instead.\n",
            "\n",
            "WARNING:tensorflow:From /content/Mask_RCNN-Multi-Class-Detection/mrcnn/model.py:601: calling crop_and_resize_v1 (from tensorflow.python.ops.image_ops_impl) with box_ind is deprecated and will be removed in a future version.\n",
            "Instructions for updating:\n",
            "box_ind is deprecated, use box_indices instead\n",
            "WARNING:tensorflow:From /usr/local/lib/python3.7/dist-packages/keras/backend/tensorflow_backend.py:158: The name tf.get_default_session is deprecated. Please use tf.compat.v1.get_default_session instead.\n",
            "\n",
            "WARNING:tensorflow:From /usr/local/lib/python3.7/dist-packages/keras/backend/tensorflow_backend.py:163: The name tf.ConfigProto is deprecated. Please use tf.compat.v1.ConfigProto instead.\n",
            "\n",
            "WARNING:tensorflow:From /usr/local/lib/python3.7/dist-packages/keras/backend/tensorflow_backend.py:168: The name tf.Session is deprecated. Please use tf.compat.v1.Session instead.\n",
            "\n",
            "WARNING:tensorflow:From /usr/local/lib/python3.7/dist-packages/keras/backend/tensorflow_backend.py:172: The name tf.global_variables is deprecated. Please use tf.compat.v1.global_variables instead.\n",
            "\n",
            "WARNING:tensorflow:From /usr/local/lib/python3.7/dist-packages/keras/backend/tensorflow_backend.py:181: The name tf.is_variable_initialized is deprecated. Please use tf.compat.v1.is_variable_initialized instead.\n",
            "\n",
            "WARNING:tensorflow:From /usr/local/lib/python3.7/dist-packages/keras/backend/tensorflow_backend.py:188: The name tf.variables_initializer is deprecated. Please use tf.compat.v1.variables_initializer instead.\n",
            "\n"
          ]
        }
      ],
      "source": [
        "config = DamageConfig()\n",
        "\n",
        "# define the model\n",
        "model = MaskRCNN(mode='training', model_dir='/content/drive/MyDrive/stock_data', config=config)\n",
        "\n",
        "\n",
        "model.load_weights(COCO_MODEL_PATH, \n",
        "                   by_name=True, \n",
        "                   exclude=[\"mrcnn_class_logits\", \"mrcnn_bbox_fc\",  \"mrcnn_bbox\", \"mrcnn_mask\"])\n",
        "\n"
      ]
    },
    {
      "cell_type": "code",
      "execution_count": null,
      "metadata": {
        "colab": {
          "base_uri": "https://localhost:8080/"
        },
        "id": "zJvgI8lJd3qN",
        "outputId": "f8eb44b6-95bc-47a3-dc36-b2a8ce0922ee"
      },
      "outputs": [
        {
          "output_type": "stream",
          "name": "stdout",
          "text": [
            "\n",
            "Starting at epoch 0. LR=0.002\n",
            "\n",
            "Checkpoint Path: /content/drive/MyDrive/stock_data/stock20220531T2013/mask_rcnn_stock_{epoch:04d}.h5\n",
            "Selecting layers to train\n",
            "fpn_c5p5               (Conv2D)\n",
            "fpn_c4p4               (Conv2D)\n",
            "fpn_c3p3               (Conv2D)\n",
            "fpn_c2p2               (Conv2D)\n",
            "fpn_p5                 (Conv2D)\n",
            "fpn_p2                 (Conv2D)\n",
            "fpn_p3                 (Conv2D)\n",
            "fpn_p4                 (Conv2D)\n",
            "In model:  rpn_model\n",
            "    rpn_conv_shared        (Conv2D)\n",
            "    rpn_class_raw          (Conv2D)\n",
            "    rpn_bbox_pred          (Conv2D)\n",
            "mrcnn_mask_conv1       (TimeDistributed)\n",
            "mrcnn_mask_bn1         (TimeDistributed)\n",
            "mrcnn_mask_conv2       (TimeDistributed)\n",
            "mrcnn_mask_bn2         (TimeDistributed)\n",
            "mrcnn_class_conv1      (TimeDistributed)\n",
            "mrcnn_class_bn1        (TimeDistributed)\n",
            "mrcnn_mask_conv3       (TimeDistributed)\n",
            "mrcnn_mask_bn3         (TimeDistributed)\n",
            "mrcnn_class_conv2      (TimeDistributed)\n",
            "mrcnn_class_bn2        (TimeDistributed)\n",
            "mrcnn_mask_conv4       (TimeDistributed)\n",
            "mrcnn_mask_bn4         (TimeDistributed)\n",
            "mrcnn_bbox_fc          (TimeDistributed)\n",
            "mrcnn_mask_deconv      (TimeDistributed)\n",
            "mrcnn_class_logits     (TimeDistributed)\n",
            "mrcnn_mask             (TimeDistributed)\n",
            "WARNING:tensorflow:From /usr/local/lib/python3.7/dist-packages/keras/optimizers.py:711: The name tf.train.Optimizer is deprecated. Please use tf.compat.v1.train.Optimizer instead.\n",
            "\n",
            "WARNING:tensorflow:From /usr/local/lib/python3.7/dist-packages/keras/backend/tensorflow_backend.py:953: The name tf.assign_add is deprecated. Please use tf.compat.v1.assign_add instead.\n",
            "\n",
            "WARNING:tensorflow:From /usr/local/lib/python3.7/dist-packages/keras/backend/tensorflow_backend.py:675: calling Constant.__init__ (from tensorflow.python.ops.init_ops) with dtype is deprecated and will be removed in a future version.\n",
            "Instructions for updating:\n",
            "Call initializer instance with the dtype argument instead of passing it to the constructor\n",
            "WARNING:tensorflow:From /usr/local/lib/python3.7/dist-packages/keras/backend/tensorflow_backend.py:940: The name tf.assign is deprecated. Please use tf.compat.v1.assign instead.\n",
            "\n",
            "WARNING:tensorflow:From /usr/local/lib/python3.7/dist-packages/keras/callbacks.py:705: The name tf.summary.merge_all is deprecated. Please use tf.compat.v1.summary.merge_all instead.\n",
            "\n",
            "WARNING:tensorflow:From /usr/local/lib/python3.7/dist-packages/keras/callbacks.py:708: The name tf.summary.FileWriter is deprecated. Please use tf.compat.v1.summary.FileWriter instead.\n",
            "\n",
            "Epoch 1/15\n",
            "159/160 [============================>.] - ETA: 1s - loss: 2.3448 - rpn_class_loss: 0.0213 - rpn_bbox_loss: 1.4222 - mrcnn_class_loss: 0.0262 - mrcnn_bbox_loss: 0.4708 - mrcnn_mask_loss: 0.4044WARNING:tensorflow:From /usr/local/lib/python3.7/dist-packages/keras/callbacks.py:791: The name tf.Summary is deprecated. Please use tf.compat.v1.Summary instead.\n",
            "\n",
            "160/160 [==============================] - 262s 2s/step - loss: 2.3454 - rpn_class_loss: 0.0212 - rpn_bbox_loss: 1.4246 - mrcnn_class_loss: 0.0261 - mrcnn_bbox_loss: 0.4697 - mrcnn_mask_loss: 0.4038 - val_loss: 1.8545 - val_rpn_class_loss: 0.0153 - val_rpn_bbox_loss: 0.9137 - val_mrcnn_class_loss: 0.0668 - val_mrcnn_bbox_loss: 0.4714 - val_mrcnn_mask_loss: 0.3873\n",
            "Epoch 2/15\n",
            "160/160 [==============================] - 183s 1s/step - loss: 1.3020 - rpn_class_loss: 0.0079 - rpn_bbox_loss: 0.6945 - mrcnn_class_loss: 0.0390 - mrcnn_bbox_loss: 0.2869 - mrcnn_mask_loss: 0.2736 - val_loss: 1.6289 - val_rpn_class_loss: 0.0103 - val_rpn_bbox_loss: 0.8952 - val_mrcnn_class_loss: 0.0528 - val_mrcnn_bbox_loss: 0.3581 - val_mrcnn_mask_loss: 0.3124\n",
            "Epoch 3/15\n",
            "160/160 [==============================] - 183s 1s/step - loss: 0.8209 - rpn_class_loss: 0.0057 - rpn_bbox_loss: 0.3603 - mrcnn_class_loss: 0.0340 - mrcnn_bbox_loss: 0.1863 - mrcnn_mask_loss: 0.2345 - val_loss: 1.7217 - val_rpn_class_loss: 0.0098 - val_rpn_bbox_loss: 1.0215 - val_mrcnn_class_loss: 0.0557 - val_mrcnn_bbox_loss: 0.3680 - val_mrcnn_mask_loss: 0.2668\n",
            "Epoch 4/15\n",
            "160/160 [==============================] - 183s 1s/step - loss: 0.5720 - rpn_class_loss: 0.0047 - rpn_bbox_loss: 0.1932 - mrcnn_class_loss: 0.0313 - mrcnn_bbox_loss: 0.1273 - mrcnn_mask_loss: 0.2156 - val_loss: 1.6976 - val_rpn_class_loss: 0.0087 - val_rpn_bbox_loss: 1.0106 - val_mrcnn_class_loss: 0.0633 - val_mrcnn_bbox_loss: 0.3486 - val_mrcnn_mask_loss: 0.2665\n",
            "Epoch 5/15\n",
            "160/160 [==============================] - 184s 1s/step - loss: 0.4781 - rpn_class_loss: 0.0041 - rpn_bbox_loss: 0.1388 - mrcnn_class_loss: 0.0255 - mrcnn_bbox_loss: 0.1139 - mrcnn_mask_loss: 0.1958 - val_loss: 1.7755 - val_rpn_class_loss: 0.0086 - val_rpn_bbox_loss: 1.0780 - val_mrcnn_class_loss: 0.0544 - val_mrcnn_bbox_loss: 0.3677 - val_mrcnn_mask_loss: 0.2668\n",
            "Epoch 6/15\n",
            "160/160 [==============================] - 183s 1s/step - loss: 0.4118 - rpn_class_loss: 0.0039 - rpn_bbox_loss: 0.1221 - mrcnn_class_loss: 0.0236 - mrcnn_bbox_loss: 0.0816 - mrcnn_mask_loss: 0.1806 - val_loss: 1.7590 - val_rpn_class_loss: 0.0079 - val_rpn_bbox_loss: 1.0432 - val_mrcnn_class_loss: 0.0697 - val_mrcnn_bbox_loss: 0.3903 - val_mrcnn_mask_loss: 0.2478\n",
            "Epoch 7/15\n",
            "160/160 [==============================] - 183s 1s/step - loss: 0.3670 - rpn_class_loss: 0.0037 - rpn_bbox_loss: 0.1070 - mrcnn_class_loss: 0.0199 - mrcnn_bbox_loss: 0.0721 - mrcnn_mask_loss: 0.1643 - val_loss: 1.6085 - val_rpn_class_loss: 0.0079 - val_rpn_bbox_loss: 1.0362 - val_mrcnn_class_loss: 0.0388 - val_mrcnn_bbox_loss: 0.2922 - val_mrcnn_mask_loss: 0.2334\n",
            "Epoch 8/15\n",
            "160/160 [==============================] - 183s 1s/step - loss: 0.3543 - rpn_class_loss: 0.0036 - rpn_bbox_loss: 0.1021 - mrcnn_class_loss: 0.0191 - mrcnn_bbox_loss: 0.0695 - mrcnn_mask_loss: 0.1600 - val_loss: 1.7849 - val_rpn_class_loss: 0.0086 - val_rpn_bbox_loss: 1.0635 - val_mrcnn_class_loss: 0.0876 - val_mrcnn_bbox_loss: 0.3895 - val_mrcnn_mask_loss: 0.2357\n",
            "Epoch 9/15\n",
            "160/160 [==============================] - 183s 1s/step - loss: 0.3151 - rpn_class_loss: 0.0031 - rpn_bbox_loss: 0.0832 - mrcnn_class_loss: 0.0177 - mrcnn_bbox_loss: 0.0666 - mrcnn_mask_loss: 0.1444 - val_loss: 1.6878 - val_rpn_class_loss: 0.0080 - val_rpn_bbox_loss: 1.0443 - val_mrcnn_class_loss: 0.0580 - val_mrcnn_bbox_loss: 0.3236 - val_mrcnn_mask_loss: 0.2540\n",
            "Epoch 10/15\n",
            "160/160 [==============================] - 184s 1s/step - loss: 0.2840 - rpn_class_loss: 0.0033 - rpn_bbox_loss: 0.0823 - mrcnn_class_loss: 0.0168 - mrcnn_bbox_loss: 0.0467 - mrcnn_mask_loss: 0.1350 - val_loss: 1.7757 - val_rpn_class_loss: 0.0083 - val_rpn_bbox_loss: 1.1026 - val_mrcnn_class_loss: 0.0876 - val_mrcnn_bbox_loss: 0.3049 - val_mrcnn_mask_loss: 0.2722\n",
            "Epoch 11/15\n",
            "160/160 [==============================] - 183s 1s/step - loss: 0.2969 - rpn_class_loss: 0.0031 - rpn_bbox_loss: 0.1017 - mrcnn_class_loss: 0.0159 - mrcnn_bbox_loss: 0.0518 - mrcnn_mask_loss: 0.1244 - val_loss: 1.6920 - val_rpn_class_loss: 0.0079 - val_rpn_bbox_loss: 1.0212 - val_mrcnn_class_loss: 0.0753 - val_mrcnn_bbox_loss: 0.3042 - val_mrcnn_mask_loss: 0.2834\n",
            "Epoch 12/15\n",
            "160/160 [==============================] - 183s 1s/step - loss: 0.2686 - rpn_class_loss: 0.0031 - rpn_bbox_loss: 0.0846 - mrcnn_class_loss: 0.0142 - mrcnn_bbox_loss: 0.0478 - mrcnn_mask_loss: 0.1189 - val_loss: 1.6444 - val_rpn_class_loss: 0.0082 - val_rpn_bbox_loss: 0.9560 - val_mrcnn_class_loss: 0.0929 - val_mrcnn_bbox_loss: 0.3204 - val_mrcnn_mask_loss: 0.2669\n",
            "Epoch 13/15\n",
            "160/160 [==============================] - 183s 1s/step - loss: 0.2557 - rpn_class_loss: 0.0029 - rpn_bbox_loss: 0.0849 - mrcnn_class_loss: 0.0127 - mrcnn_bbox_loss: 0.0340 - mrcnn_mask_loss: 0.1211 - val_loss: 1.6830 - val_rpn_class_loss: 0.0081 - val_rpn_bbox_loss: 1.0009 - val_mrcnn_class_loss: 0.0839 - val_mrcnn_bbox_loss: 0.3198 - val_mrcnn_mask_loss: 0.2704\n",
            "Epoch 14/15\n",
            "160/160 [==============================] - 183s 1s/step - loss: 0.2240 - rpn_class_loss: 0.0025 - rpn_bbox_loss: 0.0639 - mrcnn_class_loss: 0.0110 - mrcnn_bbox_loss: 0.0375 - mrcnn_mask_loss: 0.1092 - val_loss: 1.7218 - val_rpn_class_loss: 0.0072 - val_rpn_bbox_loss: 0.9845 - val_mrcnn_class_loss: 0.0816 - val_mrcnn_bbox_loss: 0.3534 - val_mrcnn_mask_loss: 0.2950\n",
            "Epoch 15/15\n",
            "160/160 [==============================] - 183s 1s/step - loss: 0.2352 - rpn_class_loss: 0.0026 - rpn_bbox_loss: 0.0812 - mrcnn_class_loss: 0.0111 - mrcnn_bbox_loss: 0.0360 - mrcnn_mask_loss: 0.1042 - val_loss: 1.7331 - val_rpn_class_loss: 0.0077 - val_rpn_bbox_loss: 1.0016 - val_mrcnn_class_loss: 0.0741 - val_mrcnn_bbox_loss: 0.3168 - val_mrcnn_mask_loss: 0.3328\n"
          ]
        }
      ],
      "source": [
        "model.train(train_set, \n",
        "            test_set, \n",
        "            learning_rate=config.LEARNING_RATE, \n",
        "            epochs=15, \n",
        "            layers='heads')"
      ]
    },
    {
      "cell_type": "code",
      "execution_count": null,
      "metadata": {
        "colab": {
          "base_uri": "https://localhost:8080/"
        },
        "id": "hu61NYG5fL9S",
        "outputId": "9bd1e1e3-eed0-4444-f157-02e735365fb5"
      },
      "outputs": [
        {
          "output_type": "stream",
          "name": "stdout",
          "text": [
            "WARNING:tensorflow:From /content/Mask_RCNN-Multi-Class-Detection/mrcnn/model.py:723: The name tf.sets.set_intersection is deprecated. Please use tf.sets.intersection instead.\n",
            "\n",
            "WARNING:tensorflow:From /content/Mask_RCNN-Multi-Class-Detection/mrcnn/model.py:725: The name tf.sparse_tensor_to_dense is deprecated. Please use tf.sparse.to_dense instead.\n",
            "\n",
            "WARNING:tensorflow:From /content/Mask_RCNN-Multi-Class-Detection/mrcnn/model.py:775: to_float (from tensorflow.python.ops.math_ops) is deprecated and will be removed in a future version.\n",
            "Instructions for updating:\n",
            "Use `tf.cast` instead.\n",
            "Re-starting from epoch 15\n"
          ]
        }
      ],
      "source": [
        "class PredictionConfig(Config):\n",
        "    NAME = \"stock\"\n",
        "    NUM_CLASSES = 1 + 3\n",
        "    GPU_COUNT = 1\n",
        "    IMAGES_PER_GPU = 1\n",
        "    \n",
        "cfg = PredictionConfig()\n",
        "\n",
        "model = MaskRCNN(mode='inference', model_dir='./', config=cfg)\n",
        "\n",
        "model_path = '/content/drive/MyDrive/stock_data/stock20220531T2013/mask_rcnn_stock_0015.h5'\n",
        "model.load_weights(model_path, by_name=True) \n"
      ]
    },
    {
      "cell_type": "code",
      "execution_count": null,
      "metadata": {
        "colab": {
          "base_uri": "https://localhost:8080/",
          "height": 954
        },
        "id": "7mAs1d2GRP6s",
        "outputId": "a4be54f6-6753-4b6b-aaa7-b489b13289b2"
      },
      "outputs": [
        {
          "output_type": "stream",
          "name": "stdout",
          "text": [
            "Processing 1 images\n",
            "image                    shape: (772, 826, 3)         min:   79.00000  max:  255.00000  float32\n",
            "molded_images            shape: (1, 1024, 1024, 3)    min: -123.70000  max:  151.10000  float64\n",
            "image_metas              shape: (1, 16)               min:    0.00000  max: 1024.00000  float64\n",
            "anchors                  shape: (1, 261888, 4)        min:   -0.35390  max:    1.29134  float32\n"
          ]
        },
        {
          "output_type": "display_data",
          "data": {
            "text/plain": [
              "<Figure size 1152x1152 with 1 Axes>"
            ],
            "image/png": "[encoded data removed]"
          },
          "metadata": {
            "needs_background": "light"
          }
        }
      ],
      "source": [
        "image = load_img(\"/content/images/val/Screenshot 2022-05-21 at 19.02.13.png\")\n",
        "image = img_to_array(image)\n",
        "\n",
        "# call the detect method on image\n",
        "results = model.detect([image], verbose=1)\n",
        "r = results[0]\n",
        "class_names=['background','c','ihs','hs']\n",
        "visualize.display_instances(image, r['rois'], r['masks'], r['class_ids'], class_names,  r['scores'])\n"
      ]
    },
    {
      "cell_type": "code",
      "execution_count": null,
      "metadata": {
        "id": "3y2NPSeXNZaI"
      },
      "outputs": [],
      "source": [
        ""
      ]
    }
  ],
  "metadata": {
    "accelerator": "GPU",
    "colab": {
      "collapsed_sections": [],
      "name": "train_multilabel_maskrcnn_colab.ipynb",
      "provenance": []
    },
    "kernelspec": {
      "display_name": "Python 3",
      "language": "python",
      "name": "python3"
    },
    "language_info": {
      "codemirror_mode": {
        "name": "ipython",
        "version": 3
      },
      "file_extension": ".py",
      "mimetype": "text/x-python",
      "name": "python",
      "nbconvert_exporter": "python",
      "pygments_lexer": "ipython3",
      "version": "3.7.11"
    }
  },
  "nbformat": 4,
  "nbformat_minor": 0
}