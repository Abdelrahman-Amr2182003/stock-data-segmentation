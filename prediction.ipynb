{
  "cells": [
    {
      "cell_type": "code",
      "source": [
        "!git clone https://github.com/CrookedNoob/Mask_RCNN-Multi-Class-Detection"
      ],
      "metadata": {
        "colab": {
          "base_uri": "https://localhost:8080/"
        },
        "id": "bhejT7jY_ByM",
        "outputId": "fd8fdd1c-9276-4c60-d308-b40433554046"
      },
      "id": "bhejT7jY_ByM",
      "execution_count": 1,
      "outputs": [
        {
          "output_type": "stream",
          "name": "stdout",
          "text": [
            "Cloning into 'Mask_RCNN-Multi-Class-Detection'...\n",
            "remote: Enumerating objects: 908, done.\u001b[K\n",
            "remote: Total 908 (delta 0), reused 0 (delta 0), pack-reused 908\u001b[K\n",
            "Receiving objects: 100% (908/908), 117.81 MiB | 26.64 MiB/s, done.\n",
            "Resolving deltas: 100% (474/474), done.\n"
          ]
        }
      ]
    },
    {
      "cell_type": "code",
      "source": [
        "%tensorflow_version 1.x\n",
        "!pip install --upgrade h5py==2.10.0\n",
        "!pip install --upgrade keras==2.1.0"
      ],
      "metadata": {
        "colab": {
          "base_uri": "https://localhost:8080/"
        },
        "id": "qSp1uaHK_DC8",
        "outputId": "0d0ced96-b275-4925-bc3d-bf571d76e73f"
      },
      "id": "qSp1uaHK_DC8",
      "execution_count": 1,
      "outputs": [
        {
          "output_type": "stream",
          "name": "stdout",
          "text": [
            "TensorFlow 1.x selected.\n",
            "Looking in indexes: https://pypi.org/simple, https://us-python.pkg.dev/colab-wheels/public/simple/\n",
            "Requirement already satisfied: h5py==2.10.0 in /usr/local/lib/python3.7/dist-packages (2.10.0)\n",
            "Requirement already satisfied: six in /usr/local/lib/python3.7/dist-packages (from h5py==2.10.0) (1.15.0)\n",
            "Requirement already satisfied: numpy>=1.7 in /usr/local/lib/python3.7/dist-packages (from h5py==2.10.0) (1.21.6)\n",
            "Looking in indexes: https://pypi.org/simple, https://us-python.pkg.dev/colab-wheels/public/simple/\n",
            "Collecting keras==2.1.0\n",
            "  Using cached Keras-2.1.0-py2.py3-none-any.whl (302 kB)\n",
            "Requirement already satisfied: pyyaml in /usr/local/lib/python3.7/dist-packages (from keras==2.1.0) (3.13)\n",
            "Requirement already satisfied: scipy>=0.14 in /usr/local/lib/python3.7/dist-packages (from keras==2.1.0) (1.4.1)\n",
            "Requirement already satisfied: six>=1.9.0 in /usr/local/lib/python3.7/dist-packages (from keras==2.1.0) (1.15.0)\n",
            "Requirement already satisfied: numpy>=1.9.1 in /usr/local/lib/python3.7/dist-packages (from keras==2.1.0) (1.21.6)\n",
            "Installing collected packages: keras\n",
            "  Attempting uninstall: keras\n",
            "    Found existing installation: keras 2.8.0\n",
            "    Uninstalling keras-2.8.0:\n",
            "      Successfully uninstalled keras-2.8.0\n",
            "Successfully installed keras-2.1.0\n"
          ]
        }
      ]
    },
    {
      "cell_type": "code",
      "source": [
        "import sys\n",
        "sys.path.append(\"/content/Mask_RCNN-Multi-Class-Detection\")\n",
        "from mrcnn.utils import Dataset\n",
        "from mrcnn.config import Config\n",
        "from mrcnn.model import MaskRCNN\n",
        "from mrcnn.visualize import display_instances\n",
        "from mrcnn.utils import extract_bboxes\n",
        "from mrcnn.utils import compute_ap\n",
        "from mrcnn.model import load_image_gt\n",
        "from mrcnn.model import mold_image\n",
        "from mrcnn import visualize\n",
        "from mrcnn import utils\n",
        "import warnings\n",
        "from xml.etree import ElementTree\n",
        "import skimage.draw\n",
        "import cv2\n",
        "import imgaug\n",
        "\n",
        "# import keras libraries\n",
        "from keras.preprocessing.image import load_img\n",
        "from keras.preprocessing.image import img_to_array\n",
        "warnings.filterwarnings(\"ignore\")\n"
      ],
      "metadata": {
        "colab": {
          "base_uri": "https://localhost:8080/"
        },
        "id": "9Cn8TXBNA2p3",
        "outputId": "8a40a963-008a-4ac1-f974-37564aca5f8d"
      },
      "id": "9Cn8TXBNA2p3",
      "execution_count": 6,
      "outputs": [
        {
          "output_type": "stream",
          "name": "stderr",
          "text": [
            "Using TensorFlow backend.\n"
          ]
        }
      ]
    },
    {
      "cell_type": "code",
      "source": [
        "from google.colab import drive\n",
        "drive.mount('/content/drive')"
      ],
      "metadata": {
        "colab": {
          "base_uri": "https://localhost:8080/"
        },
        "id": "hZdAcEzH_Qqa",
        "outputId": "363e7df4-4cce-4088-b45a-06b573720dfc"
      },
      "id": "hZdAcEzH_Qqa",
      "execution_count": 2,
      "outputs": [
        {
          "output_type": "stream",
          "name": "stdout",
          "text": [
            "Mounted at /content/drive\n"
          ]
        }
      ]
    },
    {
      "cell_type": "code",
      "source": [
        "!unzip /content/drive/MyDrive/stock_data/images.zip"
      ],
      "metadata": {
        "colab": {
          "base_uri": "https://localhost:8080/"
        },
        "id": "weQiCmvSAoRs",
        "outputId": "3388bb3f-af8b-4c8e-f4a6-aa540d330261"
      },
      "id": "weQiCmvSAoRs",
      "execution_count": 4,
      "outputs": [
        {
          "output_type": "stream",
          "name": "stdout",
          "text": [
            "Archive:  /content/drive/MyDrive/stock_data/images.zip\n",
            "   creating: images/train/\n",
            "   creating: images/train/.ipynb_checkpoints/\n",
            "  inflating: images/train/.ipynb_checkpoints/train-checkpoint.json  \n",
            "  inflating: images/train/Screenshot 2022-05-21 at 12.18.41.png  \n",
            "  inflating: images/train/Screenshot 2022-05-21 at 12.20.25.png  \n",
            "  inflating: images/train/Screenshot 2022-05-21 at 12.20.34.png  \n",
            "  inflating: images/train/Screenshot 2022-05-21 at 12.22.46.png  \n",
            "  inflating: images/train/Screenshot 2022-05-21 at 18.50.02.png  \n",
            "  inflating: images/train/Screenshot 2022-05-21 at 18.51.22.png  \n",
            "  inflating: images/train/Screenshot 2022-05-21 at 18.51.53.png  \n",
            "  inflating: images/train/Screenshot 2022-05-21 at 18.52.23.png  \n",
            "  inflating: images/train/Screenshot 2022-05-21 at 18.52.30.png  \n",
            "  inflating: images/train/Screenshot 2022-05-21 at 18.52.56.png  \n",
            "  inflating: images/train/Screenshot 2022-05-21 at 18.53.00.png  \n",
            "  inflating: images/train/Screenshot 2022-05-21 at 18.53.18.png  \n",
            "  inflating: images/train/Screenshot 2022-05-21 at 18.53.23.png  \n",
            "  inflating: images/train/Screenshot 2022-05-21 at 18.53.30.png  \n",
            "  inflating: images/train/Screenshot 2022-05-21 at 18.53.37.png  \n",
            "  inflating: images/train/Screenshot 2022-05-21 at 18.54.10.png  \n",
            "  inflating: images/train/Screenshot 2022-05-21 at 18.54.19.png  \n",
            "  inflating: images/train/Screenshot 2022-05-21 at 18.54.51.png  \n",
            "  inflating: images/train/Screenshot 2022-05-21 at 18.54.56.png  \n",
            "  inflating: images/train/Screenshot 2022-05-21 at 18.55.01.png  \n",
            "  inflating: images/train/Screenshot 2022-05-21 at 18.56.07.png  \n",
            "  inflating: images/train/Screenshot 2022-05-21 at 18.56.12.png  \n",
            "  inflating: images/train/Screenshot 2022-05-21 at 18.56.23.png  \n",
            "  inflating: images/train/Screenshot 2022-05-21 at 18.56.59.png  \n",
            "  inflating: images/train/Screenshot 2022-05-21 at 18.57.02.png  \n",
            "  inflating: images/train/Screenshot 2022-05-21 at 18.57.14.png  \n",
            "  inflating: images/train/Screenshot 2022-05-21 at 18.58.06.png  \n",
            "  inflating: images/train/Screenshot 2022-05-21 at 18.58.20.png  \n",
            "  inflating: images/train/Screenshot 2022-05-21 at 18.58.24.png  \n",
            "  inflating: images/train/Screenshot 2022-05-21 at 18.59.15.png  \n",
            "  inflating: images/train/Screenshot 2022-05-21 at 18.59.30.png  \n",
            "  inflating: images/train/Screenshot 2022-05-21 at 18.59.41.png  \n",
            "  inflating: images/train/train.json  \n",
            "   creating: images/val/\n",
            "  inflating: images/val/Screenshot 2022-05-21 at 18.59.59.png  \n",
            "  inflating: images/val/Screenshot 2022-05-21 at 19.00.08.png  \n",
            "  inflating: images/val/Screenshot 2022-05-21 at 19.01.05.png  \n",
            "  inflating: images/val/Screenshot 2022-05-21 at 19.01.45.png  \n",
            "  inflating: images/val/Screenshot 2022-05-21 at 19.02.13.png  \n",
            "  inflating: images/val/Screenshot 2022-05-21 at 19.02.23.png  \n",
            "  inflating: images/val/Screenshot 2022-05-21 at 19.02.27.png  \n",
            "  inflating: images/val/val.json     \n"
          ]
        }
      ]
    },
    {
      "cell_type": "code",
      "source": [
        "model_path = '/content/drive/MyDrive/stock_data/stock20220531T2013/mask_rcnn_stock_0015.h5'"
      ],
      "metadata": {
        "id": "BWErSU82_SNr"
      },
      "id": "BWErSU82_SNr",
      "execution_count": 12,
      "outputs": []
    },
    {
      "cell_type": "code",
      "source": [
        "img_path=\"/content/images/val/Screenshot 2022-05-21 at 19.02.27.png\""
      ],
      "metadata": {
        "id": "5Gqwbchp_SRQ"
      },
      "id": "5Gqwbchp_SRQ",
      "execution_count": 13,
      "outputs": []
    },
    {
      "cell_type": "code",
      "execution_count": 14,
      "id": "48b267cb-c53c-46fc-8ff3-dcd049a39996",
      "metadata": {
        "id": "48b267cb-c53c-46fc-8ff3-dcd049a39996",
        "outputId": "df0d7dd0-550d-4997-a407-6dae6846397d",
        "colab": {
          "base_uri": "https://localhost:8080/",
          "height": 971
        }
      },
      "outputs": [
        {
          "output_type": "stream",
          "name": "stdout",
          "text": [
            "Re-starting from epoch 15\n",
            "Processing 1 images\n",
            "image                    shape: (772, 826, 3)         min:   79.00000  max:  255.00000  float32\n",
            "molded_images            shape: (1, 1024, 1024, 3)    min: -123.70000  max:  151.10000  float64\n",
            "image_metas              shape: (1, 16)               min:    0.00000  max: 1024.00000  float64\n",
            "anchors                  shape: (1, 261888, 4)        min:   -0.35390  max:    1.29134  float32\n"
          ]
        },
        {
          "output_type": "display_data",
          "data": {
            "text/plain": [
              "<Figure size 1152x1152 with 1 Axes>"
            ],
            "image/png": "[encoded data removed]"
          },
          "metadata": {
            "needs_background": "light"
          }
        }
      ],
      "source": [
        "class PredictionConfig(Config):\n",
        "    NAME = \"stock\"\n",
        "    NUM_CLASSES = 1 + 3\n",
        "    GPU_COUNT = 1\n",
        "    IMAGES_PER_GPU = 1\n",
        "    \n",
        "cfg = PredictionConfig()\n",
        "\n",
        "model = MaskRCNN(mode='inference', model_dir='./', config=cfg)\n",
        "\n",
        "model.load_weights(model_path, by_name=True) \n",
        "image = load_img(img_path)\n",
        "\n",
        "image = img_to_array(image)\n",
        "\n",
        "# call the detect method on image\n",
        "results = model.detect([image], verbose=1)\n",
        "r = results[0]\n",
        "class_names=['background','c','ihs','hs']\n",
        "visualize.display_instances(image, r['rois'], r['masks'], r['class_ids'], class_names,  r['scores'])\n"
      ]
    },
    {
      "cell_type": "code",
      "execution_count": null,
      "id": "24e77a29-80de-413e-b206-24f5f8203d7b",
      "metadata": {
        "id": "24e77a29-80de-413e-b206-24f5f8203d7b"
      },
      "outputs": [],
      "source": [
        ""
      ]
    }
  ],
  "metadata": {
    "kernelspec": {
      "display_name": "Python 3 (ipykernel)",
      "language": "python",
      "name": "python3"
    },
    "language_info": {
      "codemirror_mode": {
        "name": "ipython",
        "version": 3
      },
      "file_extension": ".py",
      "mimetype": "text/x-python",
      "name": "python",
      "nbconvert_exporter": "python",
      "pygments_lexer": "ipython3",
      "version": "3.7.11"
    },
    "colab": {
      "name": "pre.ipynb",
      "provenance": [],
      "collapsed_sections": []
    }
  },
  "nbformat": 4,
  "nbformat_minor": 5
}