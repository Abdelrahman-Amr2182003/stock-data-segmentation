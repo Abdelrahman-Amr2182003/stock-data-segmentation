{
 "cells": [
  {
   "cell_type": "markdown",
   "id": "940f2328-23a2-446a-9167-cc8dbf43ac99",
   "metadata": {},
   "source": [
    "## Transform multiple jsons from label me to coco format json"
   ]
  },
  {
   "cell_type": "code",
   "execution_count": 1,
   "id": "4513ebc9-fc44-408d-ab7f-a904293782b5",
   "metadata": {},
   "outputs": [],
   "source": [
    "import json\n",
    "import glob\n",
    "import numpy as np\n",
    "import os\n",
    "import cv2\n",
    "def PolyArea(x,y):\n",
    "    return 0.5*np.abs(np.dot(x,np.roll(y,1))-np.dot(y,np.roll(x,1)))\n",
    "def create_folder(dirr):\n",
    "    try:\n",
    "        os.mkdir(dirr)\n",
    "    except:\n",
    "        pass\n",
    "\n",
    "def extract_data(json_file,coco_json,c,ind,cats):\n",
    "    with open(json_file) as f:\n",
    "        file=json.load(f)\n",
    "        width=file['imageWidth']\n",
    "        height=file['imageHeight']\n",
    "        path=file['imagePath'].split('\\\\')[-1]\n",
    "        shapes=file['shapes']\n",
    "        for shape in shapes:\n",
    "            pts=[]\n",
    "            xs=[]\n",
    "            ys=[]\n",
    "            bbox=[]\n",
    "            ID=cats.index(shape['label'])+1\n",
    "            for j in shape['points']:\n",
    "                xs.append(float(j[0]))\n",
    "                ys.append(float(j[1]))\n",
    "                pts.append(float(j[0]))\n",
    "                pts.append(float(j[1]))\n",
    "            bbox=[min(xs),min(ys),max(xs),max(ys)]\n",
    "            area=PolyArea(np.array(xs),np.array(ys))\n",
    "            #print(area)\n",
    "            ann_dict={\"id\": c,\n",
    "              \"iscrowd\": 0,\n",
    "              \"image_id\": ind+1,\n",
    "              \"category_id\": ID,\n",
    "              \"segmentation\":[pts],\n",
    "              \"bbox\": bbox,\n",
    "              \"area\": area\n",
    "                     }\n",
    "            coco_json[\"annotations\"].append(ann_dict)\n",
    "            c+=1\n",
    "            \n",
    "    return path,{\"id\": ind+1,\n",
    "          \"width\": width,\n",
    "          \"height\": height,\n",
    "          \"file_name\": path}\n",
    "\n",
    "\n",
    "\n",
    "\n",
    "def convert_files(dirr,cats,train_json,val_json,val_split,c=0):\n",
    "    jsons=glob.glob(f'{dirr}/*.json')\n",
    "    create_folder('images')\n",
    "    create_folder('images/train')\n",
    "    create_folder('images/val')\n",
    "\n",
    "    for ind,i in enumerate(jsons):\n",
    "        if ind<=(int(len(jsons)*(1-val_split))):\n",
    "            img_dir,ret = extract_data(i,train_json,c=c,ind=ind,cats=cats)\n",
    "            img=cv2.imread(f'{dirr}/{img_dir}')\n",
    "            cv2.imwrite(f'images/train/{img_dir}',img)\n",
    "\n",
    "            train_json['images'].append(ret)   \n",
    "\n",
    "        else:\n",
    "            img_dir,ret = extract_data(i,val_json,c=c,ind=ind,cats=cats)\n",
    "            img=cv2.imread(f'{dirr}/{img_dir}')\n",
    "            cv2.imwrite(f'images/val/{img_dir}',img)\n",
    "\n",
    "            val_json['images'].append(ret)  \n",
    "\n",
    "    with open('images/train/train.json','w') as fp:\n",
    "        json.dump(train_json,fp)\n",
    "\n",
    "    with open('images/val/val.json','w') as fp:\n",
    "        json.dump(val_json,fp)"
   ]
  },
  {
   "cell_type": "code",
   "execution_count": 6,
   "id": "860a4f9d-08fb-4f2b-ab84-1c6e1d5ffa30",
   "metadata": {},
   "outputs": [],
   "source": [
    "train_json=dict()\n",
    "train_json['info']={ \"description\": \"segmentation of stock data\"}\n",
    "train_json['images']=[]\n",
    "train_json['annotations']=[]\n",
    "train_json[\"categories\"]= [{\"id\": 1,\"name\": \"c\"},{\"id\": 2,\"name\": \"ihs\"},{\"id\": 3,\"name\": \"hs\"}]\n",
    "val_json=dict()\n",
    "val_json['info']={ \"description\": \"segmentation of stock data\"}\n",
    "val_json['images']=[]\n",
    "val_json['annotations']=[]\n",
    "val_json[\"categories\"]= [{\"id\": 1,\"name\": \"c\"},{\"id\": 2,\"name\": \"ihs\"},{\"id\": 3,\"name\": \"hs\"}]\n",
    "cats=['c','ihs','hs']"
   ]
  },
  {
   "cell_type": "code",
   "execution_count": 7,
   "id": "8aa54593-b2f1-4866-a054-952cca129eeb",
   "metadata": {},
   "outputs": [],
   "source": [
    "convert_files('test',cats,train_json,val_json,0.2)"
   ]
  },
  {
   "cell_type": "code",
   "execution_count": null,
   "id": "d53a97e3-4210-4a68-b0f8-fcee63d9f635",
   "metadata": {},
   "outputs": [],
   "source": []
  }
 ],
 "metadata": {
  "kernelspec": {
   "display_name": "Python 3",
   "language": "python",
   "name": "python3"
  },
  "language_info": {
   "codemirror_mode": {
    "name": "ipython",
    "version": 3
   },
   "file_extension": ".py",
   "mimetype": "text/x-python",
   "name": "python",
   "nbconvert_exporter": "python",
   "pygments_lexer": "ipython3",
   "version": "3.7.11"
  }
 },
 "nbformat": 4,
 "nbformat_minor": 5
}
